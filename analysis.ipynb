{
 "cells": [
  {
   "cell_type": "code",
   "execution_count": 1,
   "id": "80d9240c-0084-4c44-a42c-de3ebb20325a",
   "metadata": {},
   "outputs": [],
   "source": [
    "import json\n",
    "from typing import Generator\n",
    "\n",
    "import numpy as np\n",
    "import pandas as pd\n",
    "from sklearn.metrics.pairwise import cosine_similarity\n",
    "from scipy import stats\n",
    "import matplotlib.pyplot as plt\n",
    "import seaborn as sns"
   ]
  },
  {
   "cell_type": "markdown",
   "id": "3c09c469-24f7-4c64-932c-17f47c377410",
   "metadata": {},
   "source": [
    "Load the embeddings. For each entry, we've stored the two sentences and their corresponding embeddings."
   ]
  },
  {
   "cell_type": "code",
   "execution_count": 2,
   "id": "1ba50dba-1d77-4a51-a08d-ff74dd31d5d0",
   "metadata": {},
   "outputs": [
    {
     "name": "stdout",
     "output_type": "stream",
     "text": [
      "Number of error-fixed pairs to test: 28\n"
     ]
    }
   ],
   "source": [
    "def load_jsonl(path: str) -> Generator[dict, None, None]:\n",
    "    \"\"\"Load a JSONL file.\"\"\"\n",
    "    with open(path, \"r\") as fin:\n",
    "        yield from (json.loads(ln) for ln in fin.readlines())\n",
    "\n",
    "\n",
    "data = list(load_jsonl(\"data/embeddings.jsonl\"))\n",
    "print(f\"Number of error-fixed pairs to test: {len(data)}\")"
   ]
  },
  {
   "cell_type": "markdown",
   "id": "bdefa193-4be6-4d1a-b21c-f861c67ea72f",
   "metadata": {},
   "source": [
    "Calculate the [cosine similarity][cos] between two embeddings and run it over our pairs.\n",
    "\n",
    "[cos]: https://en.wikipedia.org/wiki/Cosine_similarity"
   ]
  },
  {
   "cell_type": "code",
   "execution_count": 3,
   "id": "af0768fa-b9fa-4a4c-b147-ffe3f82e10f0",
   "metadata": {},
   "outputs": [
    {
     "name": "stdout",
     "output_type": "stream",
     "text": [
      "Mean cosine similarity: 0.88\n"
     ]
    }
   ],
   "source": [
    "embeddings = [(entry[\"emb_err\"], entry[\"emb_fix\"]) for entry in data]\n",
    "similarities = [\n",
    "    cosine_similarity([err], [emb]).item() for (err, emb) in embeddings\n",
    "]\n",
    "print(f\"Mean cosine similarity: {np.mean(similarities):.2f}\")"
   ]
  },
  {
   "cell_type": "markdown",
   "id": "6e58b77b-2773-4188-81d2-695d224f4daf",
   "metadata": {},
   "source": [
    "Here's the distribution of the similarities for each sentence pair. They're mostly concentrated\n",
    "at the top end of the score range, `[-1,1]`."
   ]
  },
  {
   "cell_type": "code",
   "execution_count": 4,
   "id": "bfd702bd-6cff-4a66-aa10-fa7f604d812a",
   "metadata": {},
   "outputs": [
    {
     "data": {
      "image/png": "[encoded data removed]",
      "text/plain": [
       "<Figure size 500x300 with 1 Axes>"
      ]
     },
     "metadata": {},
     "output_type": "display_data"
    }
   ],
   "source": [
    "fig, ax = plt.subplots(figsize=(5, 3))\n",
    "g = sns.histplot(x=similarities, bins=10, ax=ax)\n",
    "g.set(\n",
    "    title=\"Cosine similarities between errors and fixes\",\n",
    "    ylabel=\"Num. sentences\",\n",
    "    xlabel=\"Cosine similarity\",\n",
    ")\n",
    "plt.show()"
   ]
  },
  {
   "cell_type": "markdown",
   "id": "aa381633-32f8-4f30-a6b0-8fdac8d988ca",
   "metadata": {},
   "source": [
    "Which pairs score poorly?"
   ]
  },
  {
   "cell_type": "code",
   "execution_count": 5,
   "id": "ba166509-45be-45d5-bf6f-48644b552ab8",
   "metadata": {},
   "outputs": [
    {
     "name": "stdout",
     "output_type": "stream",
     "text": [
      "Score: -0.0015\n",
      "+ Divorce is tolerated on condition that the husband restore the portion his wife brought him, but is seldom practised, as mu- tual necessities and habits perpetuate the union of the poor; the rich can choose a more com ee plaisant mistress without dismissing the formers Temporary intercourse is rather forbidden by the pride of the sex than by any legal or mordl obligation, it being regarded as a brief mar- viage, and inconstancy as a divorce.\n",
      "> Divorce is tolerated on condition that the husband restore the portion of his wife brought him, but is seldom practised, as mutual necessities and habits perpetuate the union of the poor; and the rich can choose a more complaisant mistress without dismissing the former. Temporary intercourse is rather forbidding by the pride of the sex than by any legal or moral obligation, it being regarded as a brief marriage, and inconstancy as a divorce.\n",
      "\n",
      "Score: -0.0230\n",
      "+ Because the tongne, being full of pores and apnngy, receives great moisture into it, and more in drunken men than in sober ; tlierefore the tongue, through often drinking, is full of bad humours; and so the faculty of tasting is rendered out of order : also, through the thickening of the taste itself, drink taken by druukards is not presently fe.t.\n",
      "> Because the tongue, being full of pores and spongy, receives great moisture to it, and more in a drunken man than in sober ; therefore the tongue, through often drinking, is full of bad humours; and so the faculty of tasting is rendered out of ordered : also, through the thickening of the taste itself, drink taken by the drunkards is not presently felt.\n",
      "\n",
      "Score: -0.0238\n",
      "+ Some women, it is true, are subject to a slight hcemorrhago that sometimes occurs with considerable regu- larit v during j »regnan су, and which has led them to suppose they have their turns at such term ; but it is not so ; the discharge at such times is real blood, j' The use of the menstrual discharge seems to be, to prepare the uterine system for conception.\n",
      "> Some women, it is true, are subject to a slight haemorrhage that sometimes occurs with considerable regularity during pregnancy, and which has led them to suppose they have their turns at such term ; but it is not so ; the discharge at such times is real blood. The use of the menstrual discharge seems to be, to prepare the uterine system for conception.\n",
      "\n"
     ]
    }
   ],
   "source": [
    "low_scores = [\n",
    "    idx for idx in range(len(similarities)) if similarities[idx] < 0.5\n",
    "]\n",
    "for idx in low_scores:\n",
    "    err, fix = data[idx][\"err\"], data[idx][\"fix\"]\n",
    "    print(f\"Score: {similarities[idx]:0.4f}\\n+ {err}\\n> {fix}\\n\")"
   ]
  },
  {
   "cell_type": "markdown",
   "id": "1d6fd8c1-455a-45ba-ac1d-ee392bec564c",
   "metadata": {},
   "source": [
    "So those are some problems. They're all quite close to 0, which means the embeddings are orthogonal \n",
    "to one another (that is, they have no alignment whatsoever). Overall however the concentration of \n",
    "scores is promising. It suggests error and fixed sentences are interchangeable.\n",
    "\n",
    "But that high concentration up at the maximum value for cosine similarity is also grounds for \n",
    "suspicion: given how consistently similar embeddings are between sentence pairs, it may be that the \n",
    "model isn't making much of a distinction between all sentences in the corpus, fixed or not. That is, \n",
    "is any one error sentence interchangeable with any fixed sentence? \n",
    "\n",
    "To answer this, we define a function that derives the cosine similarity for each error sentence and \n",
    "a randomly selected fixed sentence. That gives us a baseline against which to measure whether an \n",
    "error sentence and its actual fixed pair are interchangeable in a way that a random pairing is not. \n",
    "We will do this by shuffling/measuring a few hundred times and taking the average of the results."
   ]
  },
  {
   "cell_type": "code",
   "execution_count": 6,
   "id": "9cdd6cb1-43c2-40e4-9662-4186a3bac23d",
   "metadata": {},
   "outputs": [],
   "source": [
    "def shuffle_and_measure(\n",
    "    errors: list[float], fixes: list[float], k: int = 10, aggregate: bool = True\n",
    ") -> list[float]:\n",
    "    \"\"\"Shuffle fixes randomly against the errors and test their cosine similarities k times.\"\"\"\n",
    "    num_obs = len(errors)\n",
    "    similarities = []\n",
    "    # For k iterations...\n",
    "    for _ in range(k):\n",
    "        rand_sims = []\n",
    "        # For each error sentence...\n",
    "        for err in errors:\n",
    "            # Select a random fixed sentence and find the cosine similarity between the two\n",
    "            idx = np.random.choice(range(num_obs))\n",
    "            rand_sims.append(cosine_similarity([err], [fixes[idx]]).item())\n",
    "        similarities.append(rand_sims)\n",
    "\n",
    "    # The result from above is a list of k sublists. In the sublists, there are num_obs\n",
    "    # cosine similiarity scores. We could return them as is...\n",
    "    if not aggregate:\n",
    "        return similarities\n",
    "\n",
    "    # ...or we could aggregate them together, taking the average similarity across k runs for\n",
    "    # every i-th cosine similarity score (i.e. for every sentence, we get the average cosine\n",
    "    # similarity score across k random sentence comparisons)\n",
    "    return [\n",
    "        np.mean([shuf[i] for shuf in similarities]) for i in range(num_obs)\n",
    "    ]\n",
    "\n",
    "\n",
    "errors = [err for (err, _) in embeddings]\n",
    "fixes = [fix for (_, fix) in embeddings]\n",
    "shuffled = shuffle_and_measure(errors, fixes, k=250)"
   ]
  },
  {
   "cell_type": "markdown",
   "id": "4741244e-9862-4941-b7a1-7f66bde81e2f",
   "metadata": {},
   "source": [
    "Here's the distribution of the original similarities and the ones we've generated above. \n",
    "Note the overlap. That's a bad sign..."
   ]
  },
  {
   "cell_type": "code",
   "execution_count": 7,
   "id": "192a879d-181a-4e70-8e40-910b88bf059a",
   "metadata": {},
   "outputs": [
    {
     "data": {
      "image/png": "[encoded data removed]",
      "text/plain": [
       "<Figure size 500x300 with 1 Axes>"
      ]
     },
     "metadata": {},
     "output_type": "display_data"
    }
   ],
   "source": [
    "df = pd.DataFrame({\"original\": similarities, \"shuffled\": shuffled})\n",
    "df = df.stack().to_frame(name=\"value\").droplevel(0).reset_index(names=\"label\")\n",
    "\n",
    "fig, ax = plt.subplots(figsize=(5, 3))\n",
    "g = sns.histplot(data=df, x=\"value\", bins=20, hue=\"label\", alpha=0.5, ax=ax)\n",
    "g.set(\n",
    "    title=\"Cosine similarities of original and shuffled embeddings\",\n",
    "    ylabel=\"Num. sentences\",\n",
    "    xlabel=\"Cosine similarity\",\n",
    ")\n",
    "plt.show()"
   ]
  },
  {
   "cell_type": "markdown",
   "id": "cba8c2a8-b325-49c9-8d37-78013796d0c4",
   "metadata": {},
   "source": [
    "To be sure, we'll perform a quick [t-test][test]. Below, we test whether our cosine similarities for\n",
    "our original pairs and our shuffled pairs have the same average. If they don't, that means we can say \n",
    "with confidence that embeddings for an original sentence pair are interchangeable in a way that \n",
    "embeddings for a shuffled pair are not.\n",
    "\n",
    "We'll also define an [effect size][effect] measure, which will give us an sense of the magnitude of \n",
    "difference between our embedding groups. As a rule of thumb, 0.2 is a small effect size, 0.5 is medium, \n",
    "and 0.8 is large.\n",
    "\n",
    "Unfortunately, we can't reject our null hypothesis. This means that the model's assignment of embeddings \n",
    "to all sentences, error or fixed, isn't specific enough to make a concrete statement about that model's \n",
    "ability to \"read past\" OCR errors. We also see this reflected in the effect size: the amount of \n",
    "difference between our embeddings isn't particularly large.\n",
    "\n",
    "[test]: https://en.wikipedia.org/wiki/Student's_t-test\n",
    "[effect]: https://en.wikipedia.org/wiki/Effect_size"
   ]
  },
  {
   "cell_type": "code",
   "execution_count": 8,
   "id": "7d683d5e-7fb2-46e3-ac19-9f5f2b6fe352",
   "metadata": {},
   "outputs": [
    {
     "name": "stdout",
     "output_type": "stream",
     "text": [
      "Null hypothesis: randomly shuffled sentence similarities have the same average as the original similarities \n",
      "Reject? False \n",
      "+ P value: 0.1462 \n",
      "+ Effect size: -0.39\n"
     ]
    }
   ],
   "source": [
    "def cohen_d(A: list[float], B: list[float]) -> float:\n",
    "    \"\"\"Calculate Cohen's d (amount of difference between two population means).\"\"\"\n",
    "    return (np.mean(A) - np.mean(B)) / (\n",
    "        np.sqrt((np.std(A, ddof=1) ** 2 + np.std(B, ddof=1) ** 2) / 2)\n",
    "    )\n",
    "\n",
    "\n",
    "alpha = 0.05\n",
    "test = stats.ttest_ind(shuffled, similarities)\n",
    "print(\n",
    "    f\"Null hypothesis: randomly shuffled sentence similarities have the same average\",\n",
    "    f\"as the original similarities\",\n",
    "    f\"\\nReject? {test.pvalue < alpha}\",\n",
    "    f\"\\n+ P value: {test.pvalue:.04f}\",\n",
    "    f\"\\n+ Effect size: {cohen_d(shuffled, similarities):0.2f}\",\n",
    ")"
   ]
  }
 ],
 "metadata": {
  "kernelspec": {
   "display_name": "Python [conda env:ds]",
   "language": "python",
   "name": "conda-env-ds-py"
  },
  "language_info": {
   "codemirror_mode": {
    "name": "ipython",
    "version": 3
   },
   "file_extension": ".py",
   "mimetype": "text/x-python",
   "name": "python",
   "nbconvert_exporter": "python",
   "pygments_lexer": "ipython3",
   "version": "3.11.4"
  }
 },
 "nbformat": 4,
 "nbformat_minor": 5
}
